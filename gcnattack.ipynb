{
  "nbformat": 4,
  "nbformat_minor": 0,
  "metadata": {
    "colab": {
      "name": "gcnattack",
      "provenance": [],
      "collapsed_sections": [],
      "authorship_tag": "ABX9TyOLTT8zYwy109W76ULMA0KE",
      "include_colab_link": true
    },
    "kernelspec": {
      "name": "python3",
      "display_name": "Python 3"
    },
    "accelerator": "GPU"
  },
  "cells": [
    {
      "cell_type": "markdown",
      "metadata": {
        "id": "view-in-github",
        "colab_type": "text"
      },
      "source": [
        "<a href=\"https://colab.research.google.com/github/harshadgavali/gcnattack/blob/master/gcnattack.ipynb\" target=\"_parent\"><img src=\"https://colab.research.google.com/assets/colab-badge.svg\" alt=\"Open In Colab\"/></a>"
      ]
    },
    {
      "cell_type": "code",
      "metadata": {
        "id": "8Q6TrDV8nElf",
        "colab_type": "code",
        "outputId": "21d559bf-80d0-42ef-ed7d-995fb2f3569e",
        "colab": {
          "base_uri": "https://localhost:8080/",
          "height": 34
        }
      },
      "source": [
        "!git clone https://github.com/harshadgavali/gcnattack"
      ],
      "execution_count": 1,
      "outputs": [
        {
          "output_type": "stream",
          "text": [
            "fatal: destination path 'gcnattack' already exists and is not an empty directory.\n"
          ],
          "name": "stdout"
        }
      ]
    },
    {
      "cell_type": "code",
      "metadata": {
        "id": "EKFBHOlRzYif",
        "colab_type": "code",
        "colab": {}
      },
      "source": [
        "import sys\n",
        "sys.path.insert(0, './gcnattack')\n",
        "#sys.path"
      ],
      "execution_count": 0,
      "outputs": []
    },
    {
      "cell_type": "code",
      "metadata": {
        "id": "D25t52g3nfg4",
        "colab_type": "code",
        "colab": {}
      },
      "source": [
        "import time\n",
        "import argparse\n",
        "\n",
        "import torch\n",
        "import numpy as np\n",
        "\n",
        "from utils import load_data\n",
        "\n",
        "from gcn.train import get_model, test, normalize_adj"
      ],
      "execution_count": 0,
      "outputs": []
    },
    {
      "cell_type": "code",
      "metadata": {
        "id": "ClHAdeWg0GVS",
        "colab_type": "code",
        "colab": {}
      },
      "source": [
        "from defense import defense\n",
        "from attack import attack"
      ],
      "execution_count": 0,
      "outputs": []
    },
    {
      "cell_type": "code",
      "metadata": {
        "id": "vxqOpPtw0wHB",
        "colab_type": "code",
        "colab": {
          "base_uri": "https://localhost:8080/",
          "height": 54
        },
        "outputId": "5f21cbc8-513d-4cb0-8914-4bc5aea5dcdd"
      },
      "source": [
        "args = argparse.Namespace(dropout=0.5, epochs=100, \n",
        "                fastmode=False, hidden=16, lr=0.01, \n",
        "                seed=42, weight_decay=0.0005,\n",
        "                use_gpu=True, verbose=False,\n",
        "                defense_alpha=0.2, division_delta=1e-8,\n",
        "                m=2, attack_delta=0.01, attack_delta_degree=False)\n",
        "args.use_gpu = args.use_gpu and torch.cuda.is_available()\n",
        "print(args)\n",
        "\n",
        "np.random.seed(args.seed)\n",
        "torch.manual_seed(args.seed)\n",
        "if args.use_gpu:\n",
        "    torch.cuda.manual_seed(args.seed)\n",
        "\n",
        "idxs = {\n",
        "    'train': torch.LongTensor(range(0, 270)), \n",
        "    'val': torch.LongTensor(range(270, 550)), \n",
        "    'test': torch.LongTensor(550+np.random.choice(1000, size=100, replace=False))\n",
        "}"
      ],
      "execution_count": 5,
      "outputs": [
        {
          "output_type": "stream",
          "text": [
            "Namespace(attack_delta=0.01, attack_delta_degree=False, defense_alpha=0.2, division_delta=1e-08, dropout=0.5, epochs=100, fastmode=False, hidden=16, lr=0.01, m=2, seed=42, use_gpu=True, verbose=False, weight_decay=0.0005)\n"
          ],
          "name": "stdout"
        }
      ]
    },
    {
      "cell_type": "code",
      "metadata": {
        "id": "ZPXSzra8NUoe",
        "colab_type": "code",
        "colab": {
          "base_uri": "https://localhost:8080/",
          "height": 34
        },
        "outputId": "d72e4324-e5e3-441e-9c50-a134237761c2"
      },
      "source": [
        "# Load data\n",
        "adj, features, labels = load_data('./gcnattack/data/cora/')\n",
        "if args.use_gpu:\n",
        "    features = features.cuda()\n",
        "    adj = adj.cuda()\n",
        "    labels = labels.cuda()\n",
        "    for key in idxs:\n",
        "        idxs[key] = idxs[key].cuda()\n",
        "\n",
        "args.attack_delta = int(args.attack_delta * adj.shape[0])"
      ],
      "execution_count": 6,
      "outputs": [
        {
          "output_type": "stream",
          "text": [
            "Loading cora dataset...\n"
          ],
          "name": "stdout"
        }
      ]
    },
    {
      "cell_type": "code",
      "metadata": {
        "id": "4vNrtA0X8jdf",
        "colab_type": "code",
        "colab": {}
      },
      "source": [
        "def transform_attack(model, adj, features):\n",
        "  t_total = time.time()\n",
        "  for i, node in enumerate(idxs['test'].cpu().numpy()):\n",
        "    t_total = time.time()\n",
        "    print(i, \"of\", list(idxs['test'].size()), end=\" \")\n",
        "    if args.attack_delta_degree:\n",
        "      args.attack_delta = adj[node].sum()\n",
        "    adj, features = attack(model, adj, features, labels, node, args)\n",
        "    print(\"time =\", time.time() - t_total)\n",
        "  return adj, features"
      ],
      "execution_count": 0,
      "outputs": []
    },
    {
      "cell_type": "code",
      "metadata": {
        "id": "na_QZpbg3fDK",
        "colab_type": "code",
        "colab": {}
      },
      "source": [
        "def train_attack_defense(adj, features, use_defense=False, use_attack=False):\n",
        "    # load params\n",
        "\n",
        "    t_total = time.time()\n",
        "    model, _ = get_model(adj, features, labels, idxs, args)\n",
        "    print(\"Optimization Finished!\")\n",
        "    # print(\"Total time elapsed: {:.4f}s\".format(time.time() - t_total), flush=True)\n",
        "\n",
        "    # Testing\n",
        "    if use_attack:\n",
        "        t_total = time.time()\n",
        "        for i, node in enumerate(idxs['test'].cpu().numpy()):\n",
        "            t_total = time.time()\n",
        "            print(i, \"of\", list(idxs['test'].size()), end=\" \")\n",
        "            if args.attack_delta_degree:\n",
        "                args.attack_delta = adj[node].sum()\n",
        "            adj, features = attack(model, adj, features, labels, node, args)\n",
        "            print(\"time =\", time.time() - t_total)\n",
        "        \n",
        "        print(\"Before defense\")\n",
        "        adj_norm = normalize_adj(adj, args)\n",
        "        _ = test(model, adj_norm, features, labels, idxs, args)\n",
        "        \n",
        "        if use_defense:\n",
        "            print(\"After defense\")\n",
        "            adj, features = defense(adj, features, args)\n",
        "            adj_norm = normalize_adj(adj, args)\n",
        "            _ = test(model, adj_norm, features, labels, idxs, args)\n",
        "        # print(\"Total time elapsed: {:.4f}s\".format(time.time() - t_total), flush=True)\n"
      ],
      "execution_count": 0,
      "outputs": []
    },
    {
      "cell_type": "code",
      "metadata": {
        "id": "wOehZ1DFnikA",
        "colab_type": "code",
        "colab": {}
      },
      "source": [
        "def get_simil_hist(adj):\n",
        "  adj = adj + (adj.T - adj) * (adj.T > adj)\n",
        "  adj_f = adj.float()\n",
        "\n",
        "  M11 = torch.matmul(adj_f, adj_f.T)\n",
        "  M01 = torch.matmul(adj_f, 1-adj_f.T)\n",
        "  M10 = torch.matmul(1-adj_f, adj_f.T)\n",
        "  simil = M11 / (M10 + M01 + M11 + args.division_delta)\n",
        "\n",
        "  return simil[torch.tril(adj, -1).bool()]"
      ],
      "execution_count": 0,
      "outputs": []
    },
    {
      "cell_type": "code",
      "metadata": {
        "id": "z-uoqInN1bl_",
        "colab_type": "code",
        "colab": {}
      },
      "source": [
        "import matplotlib.pyplot as plt\n",
        "from matplotlib.ticker import PercentFormatter"
      ],
      "execution_count": 0,
      "outputs": []
    },
    {
      "cell_type": "code",
      "metadata": {
        "id": "soy2pTss1efk",
        "colab_type": "code",
        "colab": {
          "base_uri": "https://localhost:8080/",
          "height": 102
        },
        "outputId": "efe5e431-11a2-4b14-e8c4-87b3baf0824b"
      },
      "source": [
        "model, _ = get_model(adj, features, labels, idxs, args)\n",
        "adj_t, _ = transform_attack(model, adj, features)\n",
        "\n",
        "data = get_simil_hist(adj_t).cpu().detach().numpy()\n",
        "\n",
        "data_nz = data[data.nonzero()[0]]\n",
        "\n",
        "plt.hist(data_nz, weights=np.ones(len(data_nz)) / len(data), bins=50, histtype='step')\n",
        "\n",
        "plt.gca().yaxis.set_major_formatter(PercentFormatter(1))\n",
        "plt.title(\"0\")\n",
        "\n",
        "plt.savefig(\"fig2.png\")\n",
        "plt.ylabel(\"Percentage %\")\n",
        "plt.xlabel(\"jaccard similarity\")\n",
        "plt.show()"
      ],
      "execution_count": 0,
      "outputs": [
        {
          "output_type": "stream",
          "text": [
            "Test set results: loss= 0.3680 accuracy= 0.9100\n",
            "0 of [100] time = 66.71432161331177\n",
            "1 of [100] time = 66.70696592330933\n",
            "2 of [100] time = 66.76600861549377\n",
            "3 of [100] "
          ],
          "name": "stdout"
        }
      ]
    },
    {
      "cell_type": "code",
      "metadata": {
        "id": "K6YvhpjK1mWm",
        "colab_type": "code",
        "colab": {}
      },
      "source": [
        "data.shape"
      ],
      "execution_count": 0,
      "outputs": []
    },
    {
      "cell_type": "code",
      "metadata": {
        "id": "dMFuUSte7Ky7",
        "colab_type": "code",
        "colab": {}
      },
      "source": [
        ""
      ],
      "execution_count": 0,
      "outputs": []
    }
  ]
}