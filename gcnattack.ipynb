{
  "nbformat": 4,
  "nbformat_minor": 0,
  "metadata": {
    "colab": {
      "name": "gcnattack",
      "provenance": [],
      "collapsed_sections": []
    },
    "kernelspec": {
      "name": "python3",
      "display_name": "Python 3"
    },
    "accelerator": "GPU"
  },
  "cells": [
    {
      "cell_type": "code",
      "metadata": {
        "id": "8Q6TrDV8nElf",
        "colab_type": "code",
        "outputId": "def7b95f-5eb1-441f-a139-c6d7a7309596",
        "colab": {
          "base_uri": "https://localhost:8080/",
          "height": 34
        }
      },
      "source": [
        "!git clone https://github.com/harshadgavali/gcnattack"
      ],
      "execution_count": 1,
      "outputs": [
        {
          "output_type": "stream",
          "text": [
            "fatal: destination path 'gcnattack' already exists and is not an empty directory.\n"
          ],
          "name": "stdout"
        }
      ]
    },
    {
      "cell_type": "code",
      "metadata": {
        "id": "EKFBHOlRzYif",
        "colab_type": "code",
        "colab": {}
      },
      "source": [
        "import sys\n",
        "sys.path.insert(0, './gcnattack')\n",
        "#sys.path"
      ],
      "execution_count": 0,
      "outputs": []
    },
    {
      "cell_type": "code",
      "metadata": {
        "id": "D25t52g3nfg4",
        "colab_type": "code",
        "colab": {}
      },
      "source": [
        "import time\n",
        "import argparse\n",
        "\n",
        "import torch\n",
        "import numpy as np\n",
        "\n",
        "from utils import load_data\n",
        "\n",
        "from gcn.train import get_model, test, normalize_adj"
      ],
      "execution_count": 0,
      "outputs": []
    },
    {
      "cell_type": "code",
      "metadata": {
        "id": "ClHAdeWg0GVS",
        "colab_type": "code",
        "colab": {}
      },
      "source": [
        "from defense import defense as defense\n",
        "from attack import attack as attack"
      ],
      "execution_count": 0,
      "outputs": []
    },
    {
      "cell_type": "code",
      "metadata": {
        "id": "iFe6n7DuwhID",
        "colab_type": "code",
        "colab": {}
      },
      "source": [
        "%load_ext autoreload\n",
        "%autoreload 2"
      ],
      "execution_count": 0,
      "outputs": []
    },
    {
      "cell_type": "code",
      "metadata": {
        "id": "vxqOpPtw0wHB",
        "colab_type": "code",
        "outputId": "ad4dbedf-a5fb-42ed-cd6e-a6c07e443454",
        "colab": {
          "base_uri": "https://localhost:8080/",
          "height": 54
        }
      },
      "source": [
        "args = argparse.Namespace(dropout=0.5, epochs=100, \n",
        "                fastmode=False, hidden=16, lr=0.01, \n",
        "                seed=42, weight_decay=0.0005,\n",
        "                use_gpu=True, verbose=False,\n",
        "                defense_alpha=0.2, division_delta=1e-8,\n",
        "                m=2, attack_delta=0.01, attack_delta_degree=False, attack_simil_alpha=True)\n",
        "args.use_gpu = args.use_gpu and torch.cuda.is_available()\n",
        "print(args)\n",
        "\n",
        "np.random.seed(args.seed)\n",
        "torch.manual_seed(args.seed)\n",
        "if args.use_gpu:\n",
        "    torch.cuda.manual_seed(args.seed)\n",
        "\n",
        "idxs = {\n",
        "    'train': torch.LongTensor(range(0, 270)), \n",
        "    'val': torch.LongTensor(range(270, 550)), \n",
        "    'test': torch.LongTensor(550+np.random.choice(1000, size=100, replace=False))\n",
        "}"
      ],
      "execution_count": 6,
      "outputs": [
        {
          "output_type": "stream",
          "text": [
            "Namespace(attack_delta=0.01, attack_delta_degree=False, attack_simil_alpha=True, defense_alpha=0.2, division_delta=1e-08, dropout=0.5, epochs=100, fastmode=False, hidden=16, lr=0.01, m=2, seed=42, use_gpu=True, verbose=False, weight_decay=0.0005)\n"
          ],
          "name": "stdout"
        }
      ]
    },
    {
      "cell_type": "code",
      "metadata": {
        "id": "ZPXSzra8NUoe",
        "colab_type": "code",
        "outputId": "b02348fd-0b5d-44da-824d-23d8580f3f62",
        "colab": {
          "base_uri": "https://localhost:8080/",
          "height": 34
        }
      },
      "source": [
        "# Load data\n",
        "adj, features, labels = load_data('./gcnattack/data/cora/')\n",
        "if args.use_gpu:\n",
        "    features = features.cuda()\n",
        "    adj = adj.cuda()\n",
        "    labels = labels.cuda()\n",
        "    for key in idxs:\n",
        "        idxs[key] = idxs[key].cuda()\n",
        "\n",
        "args.attack_delta = int(args.attack_delta * adj.shape[0])"
      ],
      "execution_count": 7,
      "outputs": [
        {
          "output_type": "stream",
          "text": [
            "Loading cora dataset...\n"
          ],
          "name": "stdout"
        }
      ]
    },
    {
      "cell_type": "code",
      "metadata": {
        "id": "4vNrtA0X8jdf",
        "colab_type": "code",
        "colab": {}
      },
      "source": [
        "def transform_attack(model, adj, features):\n",
        "  t_total = time.time()\n",
        "  for i, node in enumerate(idxs['test'].cpu().numpy()):\n",
        "    t_total = time.time()\n",
        "    print(i, \"of\", list(idxs['test'].size()), end=\" \")\n",
        "    if args.attack_delta_degree:\n",
        "      args.attack_delta = adj[node].sum()\n",
        "    adj, features = attack(model, adj, features, labels, node, args)\n",
        "    print(\"time =\", time.time() - t_total)\n",
        "  return adj, features"
      ],
      "execution_count": 0,
      "outputs": []
    },
    {
      "cell_type": "code",
      "metadata": {
        "id": "oMkm-aGlWYOY",
        "colab_type": "code",
        "colab": {}
      },
      "source": [
        "adj_t = None"
      ],
      "execution_count": 0,
      "outputs": []
    },
    {
      "cell_type": "code",
      "metadata": {
        "id": "na_QZpbg3fDK",
        "colab_type": "code",
        "colab": {}
      },
      "source": [
        "def train_attack_defense(adj, features, use_defense=False, use_attack=False):\n",
        "    global adj_t\n",
        "    # load params\n",
        "\n",
        "    t_total = time.time()\n",
        "    model, _ = get_model(adj, features, labels, idxs, args)\n",
        "    print(\"Optimization Finished!\")\n",
        "    # print(\"Total time elapsed: {:.4f}s\".format(time.time() - t_total), flush=True)\n",
        "\n",
        "    # Testing\n",
        "    if use_attack:\n",
        "        adj_t, features = transform_attack(model, adj, features)\n",
        "        \n",
        "        print(\"Before defense\")\n",
        "        adj_norm = normalize_adj(adj_t, args)\n",
        "        _ = test(model, adj_norm, features, labels, idxs, args)\n",
        "        \n",
        "        if use_defense:\n",
        "            print(\"After defense\")\n",
        "            adj, features = defense(adj_t, features, args)\n",
        "            adj_norm = normalize_adj(adj, args)\n",
        "            _ = test(model, adj_norm, features, labels, idxs, args)\n",
        "        # print(\"Total time elapsed: {:.4f}s\".format(time.time() - t_total), flush=True)\n"
      ],
      "execution_count": 0,
      "outputs": []
    },
    {
      "cell_type": "code",
      "metadata": {
        "id": "a3ljJ6n5RUu-",
        "colab_type": "code",
        "outputId": "281b395a-a2d6-449a-e48b-987605368188",
        "colab": {
          "base_uri": "https://localhost:8080/",
          "height": 1000
        }
      },
      "source": [
        "train_attack_defense(adj, features, use_defense=True, use_attack=True)"
      ],
      "execution_count": 11,
      "outputs": [
        {
          "output_type": "stream",
          "text": [
            "Test set results: loss= 0.3879 accuracy= 0.8800\n",
            "Optimization Finished!\n",
            "0 of [100] time = 28.742353677749634\n",
            "1 of [100] time = 28.8610782623291\n",
            "2 of [100] time = 28.4959077835083\n",
            "3 of [100] time = 28.381805419921875\n",
            "4 of [100] time = 28.849254369735718\n",
            "5 of [100] time = 28.445446968078613\n",
            "6 of [100] time = 28.63227653503418\n",
            "7 of [100] time = 28.524670124053955\n",
            "8 of [100] time = 28.47174620628357\n",
            "9 of [100] time = 28.349745988845825\n",
            "10 of [100] time = 28.59738564491272\n",
            "11 of [100] time = 28.485706567764282\n",
            "12 of [100] time = 28.90358328819275\n",
            "13 of [100] time = 28.653353691101074\n",
            "14 of [100] time = 28.47193932533264\n",
            "15 of [100] time = 28.264161825180054\n",
            "16 of [100] time = 28.156925201416016\n",
            "17 of [100] time = 28.19221591949463\n",
            "18 of [100] time = 29.01205539703369\n",
            "19 of [100] time = 28.486573457717896\n",
            "20 of [100] time = 28.65532374382019\n",
            "21 of [100] time = 28.621751070022583\n",
            "22 of [100] time = 28.711963653564453\n",
            "23 of [100] time = 29.090047121047974\n",
            "24 of [100] time = 28.47458791732788\n",
            "25 of [100] time = 28.6371648311615\n",
            "26 of [100] time = 28.40675711631775\n",
            "27 of [100] time = 28.30765676498413\n",
            "28 of [100] time = 28.73939847946167\n",
            "29 of [100] time = 28.453733921051025\n",
            "30 of [100] time = 28.66974663734436\n",
            "31 of [100] time = 28.289308309555054\n",
            "32 of [100] time = 28.205683946609497\n",
            "33 of [100] time = 28.438539266586304\n",
            "34 of [100] time = 29.39605164527893\n",
            "35 of [100] time = 29.02127194404602\n",
            "36 of [100] time = 28.444167137145996\n",
            "37 of [100] time = 28.497844696044922\n",
            "38 of [100] time = 28.408032655715942\n",
            "39 of [100] time = 28.469088554382324\n",
            "40 of [100] time = 28.57716155052185\n",
            "41 of [100] time = 28.47625160217285\n",
            "42 of [100] time = 28.531043529510498\n",
            "43 of [100] time = 28.39518642425537\n",
            "44 of [100] time = 28.560240507125854\n",
            "45 of [100] time = 28.798404455184937\n",
            "46 of [100] time = 28.934972047805786\n",
            "47 of [100] time = 28.66221261024475\n",
            "48 of [100] time = 29.39979338645935\n",
            "49 of [100] time = 28.277527570724487\n",
            "50 of [100] time = 28.498854160308838\n",
            "51 of [100] time = 28.322590827941895\n",
            "52 of [100] time = 28.409620761871338\n",
            "53 of [100] time = 28.529610633850098\n",
            "54 of [100] time = 28.43420433998108\n",
            "55 of [100] time = 28.53544020652771\n",
            "56 of [100] time = 28.750483512878418\n",
            "57 of [100] time = 28.60306739807129\n",
            "58 of [100] time = 28.53970170021057\n",
            "59 of [100] time = 28.429230213165283\n",
            "60 of [100] time = 28.306089878082275\n",
            "61 of [100] time = 28.69452404975891\n",
            "62 of [100] time = 28.863359689712524\n",
            "63 of [100] time = 28.788478136062622\n",
            "64 of [100] time = 29.37709140777588\n",
            "65 of [100] time = 28.808350086212158\n",
            "66 of [100] time = 29.08349585533142\n",
            "67 of [100] time = 28.92905592918396\n",
            "68 of [100] time = 28.44435691833496\n",
            "69 of [100] time = 28.369576454162598\n",
            "70 of [100] time = 28.98324418067932\n",
            "71 of [100] time = 28.481755018234253\n",
            "72 of [100] time = 28.923001766204834\n",
            "73 of [100] time = 28.64343547821045\n",
            "74 of [100] time = 28.762026071548462\n",
            "75 of [100] time = 28.43387269973755\n",
            "76 of [100] time = 28.28311538696289\n",
            "77 of [100] time = 29.334518671035767\n",
            "78 of [100] time = 29.260934829711914\n",
            "79 of [100] time = 28.8224778175354\n",
            "80 of [100] time = 28.576521158218384\n",
            "81 of [100] time = 28.315659523010254\n",
            "82 of [100] time = 28.653388738632202\n",
            "83 of [100] time = 28.368419885635376\n",
            "84 of [100] time = 28.47370433807373\n",
            "85 of [100] time = 28.56495428085327\n",
            "86 of [100] time = 28.45801830291748\n",
            "87 of [100] time = 28.63541579246521\n",
            "88 of [100] time = 29.036663055419922\n",
            "89 of [100] time = 28.522027015686035\n",
            "90 of [100] time = 28.470743656158447\n",
            "91 of [100] time = 28.859607219696045\n",
            "92 of [100] time = 28.97858738899231\n",
            "93 of [100] time = 28.7240207195282\n",
            "94 of [100] time = 28.963423252105713\n",
            "95 of [100] time = 28.997541427612305\n",
            "96 of [100] time = 28.714354276657104\n",
            "97 of [100] time = 28.61301851272583\n",
            "98 of [100] time = 28.638389825820923\n",
            "99 of [100] time = 29.04900622367859\n",
            "Before defense\n",
            "Test set results: loss= 2.3138 accuracy= 0.3100\n",
            "After defense\n",
            "Test set results: loss= 1.8235 accuracy= 0.4800\n"
          ],
          "name": "stdout"
        }
      ]
    },
    {
      "cell_type": "code",
      "metadata": {
        "id": "wOehZ1DFnikA",
        "colab_type": "code",
        "colab": {}
      },
      "source": [
        "def get_simil_hist(adj):\n",
        "  adj = adj + (adj.T - adj) * (adj.T > adj)\n",
        "  adj_f = adj.float()\n",
        "\n",
        "  M11 = torch.matmul(adj_f, adj_f.T)\n",
        "  M01 = torch.matmul(adj_f, 1-adj_f.T)\n",
        "  M10 = torch.matmul(1-adj_f, adj_f.T)\n",
        "  simil = M11 / (M10 + M01 + M11 + args.division_delta)\n",
        "\n",
        "  return simil[torch.tril(adj, -1).bool()]"
      ],
      "execution_count": 0,
      "outputs": []
    },
    {
      "cell_type": "code",
      "metadata": {
        "id": "z-uoqInN1bl_",
        "colab_type": "code",
        "colab": {}
      },
      "source": [
        "import matplotlib.pyplot as plt\n",
        "from matplotlib.ticker import PercentFormatter"
      ],
      "execution_count": 0,
      "outputs": []
    },
    {
      "cell_type": "markdown",
      "metadata": {
        "id": "KyeHYv3r_-YA",
        "colab_type": "text"
      },
      "source": [
        "# Change following cell\n",
        "\n",
        "use adj, adj_t in line 4 to get different histogram\n",
        "\n",
        "### change cell no 4\n",
        "\n",
        "change cell 4 to use different method of attack/defense"
      ]
    },
    {
      "cell_type": "code",
      "metadata": {
        "id": "PUM1TqKXcSGj",
        "colab_type": "code",
        "colab": {}
      },
      "source": [
        "# model, _ = get_model(adj, features, labels, idxs, args)\n",
        "# adj_t, _ = transform_attack(model, adj, features)"
      ],
      "execution_count": 0,
      "outputs": []
    },
    {
      "cell_type": "code",
      "metadata": {
        "id": "7PMmFbZhRzw1",
        "colab_type": "code",
        "colab": {
          "base_uri": "https://localhost:8080/",
          "height": 295
        },
        "outputId": "87a6b2a8-ffc7-41a1-d958-a13ac5e2a798"
      },
      "source": [
        "data = get_simil_hist(adj_t).cpu().detach().numpy()\n",
        "\n",
        "data_nz = data[data.nonzero()[0]]\n",
        "\n",
        "plt.hist(data_nz, weights=np.ones(len(data_nz)) / len(data), bins=50, histtype='step', color='green')\n",
        "\n",
        "plt.gca().yaxis.set_major_formatter(PercentFormatter(1))\n",
        "plt.title(\"Attacked with considering average similarity\")\n",
        "plt.ylabel(\"Percentage %\")\n",
        "plt.ylim(0, 0.11)\n",
        "plt.xlabel(\"jaccard similarity between connected nodes.\")\n",
        "plt.savefig(\"fig_attacked2.png\")\n",
        "plt.show()"
      ],
      "execution_count": 22,
      "outputs": [
        {
          "output_type": "display_data",
          "data": {
            "image/png": "[encoded data removed]",
            "text/plain": [
              "<Figure size 432x288 with 1 Axes>"
            ]
          },
          "metadata": {
            "tags": [],
            "needs_background": "light"
          }
        }
      ]
    },
    {
      "cell_type": "code",
      "metadata": {
        "id": "ECeToC27R2sO",
        "colab_type": "code",
        "colab": {
          "base_uri": "https://localhost:8080/",
          "height": 295
        },
        "outputId": "acfd4d4f-d514-4dbe-c90a-d8d41ca3db8b"
      },
      "source": [
        "\n",
        "data = get_simil_hist(adj).cpu().detach().numpy()\n",
        "\n",
        "data_nz = data[data.nonzero()[0]]\n",
        "\n",
        "plt.hist(data_nz, weights=np.ones(len(data_nz)) / len(data), bins=50, histtype='step')\n",
        "\n",
        "plt.gca().yaxis.set_major_formatter(PercentFormatter(1))\n",
        "plt.title(\"Clean\")\n",
        "plt.ylabel(\"Percentage %\")\n",
        "plt.ylim(0, 0.11)\n",
        "plt.xlabel(\"jaccard similarity between connected nodes.\")\n",
        "plt.savefig(\"fig_clean.png\")\n",
        "plt.show()"
      ],
      "execution_count": 21,
      "outputs": [
        {
          "output_type": "display_data",
          "data": {
            "image/png": "[encoded data removed]",
            "text/plain": [
              "<Figure size 432x288 with 1 Axes>"
            ]
          },
          "metadata": {
            "tags": [],
            "needs_background": "light"
          }
        }
      ]
    },
    {
      "cell_type": "code",
      "metadata": {
        "id": "m7BwPJPMb4YW",
        "colab_type": "code",
        "colab": {}
      },
      "source": [
        ""
      ],
      "execution_count": 0,
      "outputs": []
    }
  ]
}