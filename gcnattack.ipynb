{
  "nbformat": 4,
  "nbformat_minor": 0,
  "metadata": {
    "colab": {
      "name": "gcnattack",
      "provenance": [],
      "collapsed_sections": [],
      "toc_visible": true
    },
    "kernelspec": {
      "name": "python3",
      "display_name": "Python 3"
    },
    "accelerator": "GPU"
  },
  "cells": [
    {
      "cell_type": "code",
      "metadata": {
        "id": "8Q6TrDV8nElf",
        "colab_type": "code",
        "outputId": "e9c27d1b-fb2b-4ef2-e92d-d257a4b60488",
        "colab": {
          "base_uri": "https://localhost:8080/",
          "height": 34
        }
      },
      "source": [
        "!git clone https://github.com/harshadgavali/gcnattack"
      ],
      "execution_count": 1,
      "outputs": [
        {
          "output_type": "stream",
          "text": [
            "fatal: destination path 'gcnattack' already exists and is not an empty directory.\n"
          ],
          "name": "stdout"
        }
      ]
    },
    {
      "cell_type": "code",
      "metadata": {
        "id": "EKFBHOlRzYif",
        "colab_type": "code",
        "colab": {}
      },
      "source": [
        "import sys\n",
        "sys.path.insert(0, './gcnattack')\n",
        "#sys.path"
      ],
      "execution_count": 0,
      "outputs": []
    },
    {
      "cell_type": "code",
      "metadata": {
        "id": "D25t52g3nfg4",
        "colab_type": "code",
        "colab": {}
      },
      "source": [
        "import time\n",
        "import argparse\n",
        "\n",
        "import torch\n",
        "import numpy as np\n",
        "\n",
        "from utils import load_data\n",
        "\n",
        "from gcn.train import get_model, test, normalize_adj"
      ],
      "execution_count": 0,
      "outputs": []
    },
    {
      "cell_type": "code",
      "metadata": {
        "id": "ClHAdeWg0GVS",
        "colab_type": "code",
        "colab": {}
      },
      "source": [
        "from defense import defense, cosine_defense, pearson_correlation_defense, eigen_defense\n",
        "from attack import attack as attack"
      ],
      "execution_count": 0,
      "outputs": []
    },
    {
      "cell_type": "code",
      "metadata": {
        "id": "iFe6n7DuwhID",
        "colab_type": "code",
        "colab": {}
      },
      "source": [
        "%load_ext autoreload\n",
        "%autoreload 2"
      ],
      "execution_count": 0,
      "outputs": []
    },
    {
      "cell_type": "code",
      "metadata": {
        "id": "vxqOpPtw0wHB",
        "colab_type": "code",
        "outputId": "f3e0a827-8135-4c7b-88f8-1366f1d43374",
        "colab": {
          "base_uri": "https://localhost:8080/",
          "height": 54
        }
      },
      "source": [
        "args = argparse.Namespace(dropout=0.5, epochs=100, \n",
        "                fastmode=False, hidden=16, lr=0.01, \n",
        "                seed=42, weight_decay=0.0005,\n",
        "                use_gpu=True, verbose=False,\n",
        "                defense_alpha=0.2, division_delta=1e-8,\n",
        "                m=2, attack_delta=0.01, attack_delta_degree=False, attack_simil_alpha=False)\n",
        "args.use_gpu = args.use_gpu and torch.cuda.is_available()\n",
        "print(args)\n",
        "\n",
        "np.random.seed(args.seed)\n",
        "torch.manual_seed(args.seed)\n",
        "if args.use_gpu:\n",
        "    torch.cuda.manual_seed(args.seed)\n",
        "\n",
        "idxs = {\n",
        "    'train': torch.LongTensor(range(0, 270)), \n",
        "    'val': torch.LongTensor(range(270, 550)), \n",
        "    'test': torch.LongTensor(550+np.random.choice(1000, size=100, replace=False))\n",
        "}"
      ],
      "execution_count": 6,
      "outputs": [
        {
          "output_type": "stream",
          "text": [
            "Namespace(attack_delta=0.01, attack_delta_degree=False, attack_simil_alpha=False, defense_alpha=0.2, division_delta=1e-08, dropout=0.5, epochs=100, fastmode=False, hidden=16, lr=0.01, m=2, seed=42, use_gpu=True, verbose=False, weight_decay=0.0005)\n"
          ],
          "name": "stdout"
        }
      ]
    },
    {
      "cell_type": "code",
      "metadata": {
        "id": "ZPXSzra8NUoe",
        "colab_type": "code",
        "outputId": "f1fed01e-ce13-4ae4-ad85-5a65987d6fa1",
        "colab": {
          "base_uri": "https://localhost:8080/",
          "height": 34
        }
      },
      "source": [
        "# Load data\n",
        "adj, features, labels = load_data('./gcnattack/data/cora/')\n",
        "if args.use_gpu:\n",
        "    features = features.cuda()\n",
        "    adj = adj.cuda()\n",
        "    labels = labels.cuda()\n",
        "    for key in idxs:\n",
        "        idxs[key] = idxs[key].cuda()\n",
        "\n",
        "args.attack_delta = int(args.attack_delta * adj.shape[0])"
      ],
      "execution_count": 7,
      "outputs": [
        {
          "output_type": "stream",
          "text": [
            "Loading cora dataset...\n"
          ],
          "name": "stdout"
        }
      ]
    },
    {
      "cell_type": "code",
      "metadata": {
        "id": "4vNrtA0X8jdf",
        "colab_type": "code",
        "colab": {}
      },
      "source": [
        "def transform_attack(model, adj, features):\n",
        "  t_total = time.time()\n",
        "  for i, node in enumerate(idxs['test'].cpu().numpy()):\n",
        "    t_total = time.time()\n",
        "    print(i, \"of\", list(idxs['test'].size()), end=\" \")\n",
        "    if args.attack_delta_degree:\n",
        "      args.attack_delta = adj[node].sum()\n",
        "    adj, features = attack(model, adj, features, labels, node, args)\n",
        "    print(\"time =\", time.time() - t_total)\n",
        "  return adj, features"
      ],
      "execution_count": 0,
      "outputs": []
    },
    {
      "cell_type": "code",
      "metadata": {
        "id": "oMkm-aGlWYOY",
        "colab_type": "code",
        "colab": {}
      },
      "source": [
        "adj_t = None"
      ],
      "execution_count": 0,
      "outputs": []
    },
    {
      "cell_type": "code",
      "metadata": {
        "id": "na_QZpbg3fDK",
        "colab_type": "code",
        "colab": {}
      },
      "source": [
        "def train_attack_defense(adj, features, use_defense=False, use_attack=False):\n",
        "    global adj_t\n",
        "    # load params\n",
        "\n",
        "    t_total = time.time()\n",
        "    model, _ = get_model(adj, features, labels, idxs, args)\n",
        "    print(\"Optimization Finished!\")\n",
        "    # print(\"Total time elapsed: {:.4f}s\".format(time.time() - t_total), flush=True)\n",
        "\n",
        "    # Testing\n",
        "    if use_attack:\n",
        "        adj_t, features = transform_attack(model, adj, features)\n",
        "        \n",
        "        print(\"Before defense\")\n",
        "        adj_norm = normalize_adj(adj_t, args)\n",
        "        _ = test(model, adj_norm, features, labels, idxs, args)\n",
        "        \n",
        "        if use_defense:\n",
        "            for defense_func in [defense, cosine_defense, pearson_correlation_defense, eigen_defense]:\n",
        "              print(\"After defense\", defense_func.__name__)\n",
        "              adj, features = defense_func(adj_t, features, args)\n",
        "              adj_norm = normalize_adj(adj, args)\n",
        "              _ = test(model, adj_norm, features, labels, idxs, args)\n",
        "        # print(\"Total time elapsed: {:.4f}s\".format(time.time() - t_total), flush=True)\n"
      ],
      "execution_count": 0,
      "outputs": []
    },
    {
      "cell_type": "code",
      "metadata": {
        "id": "a3ljJ6n5RUu-",
        "colab_type": "code",
        "colab": {}
      },
      "source": [
        "train_attack_defense(adj, features, use_defense=True, use_attack=True)"
      ],
      "execution_count": 0,
      "outputs": []
    },
    {
      "cell_type": "code",
      "metadata": {
        "id": "9FJifIPcZgBP",
        "colab_type": "code",
        "outputId": "ad4a089d-c997-4beb-8fef-08196a882d17",
        "colab": {
          "base_uri": "https://localhost:8080/",
          "height": 187
        }
      },
      "source": [
        "# model, _ = get_model(adj, features, labels, idxs, args)\n",
        "\n",
        "\n",
        "# adj_norm = normalize_adj(adj_t, args)\n",
        "# _ = test(model, adj_norm, features, labels, idxs, args)\n",
        "\n",
        "# for defense_func in [defense, cosine_defense, pearson_correlation_defense, eigen_defense]:\n",
        "#   print(\"After defense\", defense_func.__name__)\n",
        "#   adj_1, features = defense_func(adj_t, features, args)\n",
        "#   adj_norm = normalize_adj(adj_1, args)\n",
        "#   _ = test(model, adj_norm, features, labels, idxs, args)"
      ],
      "execution_count": 28,
      "outputs": [
        {
          "output_type": "stream",
          "text": [
            "Test set results: loss= 0.3597 accuracy= 0.8900\n",
            "Test set results: loss= 3.1662 accuracy= 0.1500\n",
            "After defense defense\n",
            "Test set results: loss= 1.3731 accuracy= 0.6900\n",
            "After defense cosine_defense\n",
            "Test set results: loss= 3.4224 accuracy= 0.4200\n",
            "After defense pearson_correlation_defense\n",
            "Test set results: loss= 3.1662 accuracy= 0.1500\n",
            "After defense eigen_defense\n",
            "Test set results: loss= 0.8625 accuracy= 0.7800\n"
          ],
          "name": "stdout"
        }
      ]
    },
    {
      "cell_type": "code",
      "metadata": {
        "id": "wOehZ1DFnikA",
        "colab_type": "code",
        "colab": {}
      },
      "source": [
        "def get_simil_hist(adj):\n",
        "  adj = adj + (adj.T - adj) * (adj.T > adj)\n",
        "  adj_f = adj.float()\n",
        "\n",
        "  M11 = torch.matmul(adj_f, adj_f.T)\n",
        "  M01 = torch.matmul(adj_f, 1-adj_f.T)\n",
        "  M10 = torch.matmul(1-adj_f, adj_f.T)\n",
        "  simil = M11 / (M10 + M01 + M11 + args.division_delta)\n",
        "\n",
        "  return simil[torch.tril(adj, -1).bool()]"
      ],
      "execution_count": 0,
      "outputs": []
    },
    {
      "cell_type": "code",
      "metadata": {
        "id": "z-uoqInN1bl_",
        "colab_type": "code",
        "colab": {}
      },
      "source": [
        "import matplotlib.pyplot as plt\n",
        "from matplotlib.ticker import PercentFormatter"
      ],
      "execution_count": 0,
      "outputs": []
    },
    {
      "cell_type": "markdown",
      "metadata": {
        "id": "KyeHYv3r_-YA",
        "colab_type": "text"
      },
      "source": [
        "# Change following cell\n",
        "\n",
        "use adj, adj_t in line 4 to get different histogram\n",
        "\n",
        "### change cell no 4\n",
        "\n",
        "change cell 4 to use different method of attack/defense"
      ]
    },
    {
      "cell_type": "code",
      "metadata": {
        "id": "PUM1TqKXcSGj",
        "colab_type": "code",
        "colab": {}
      },
      "source": [
        "# model, _ = get_model(adj, features, labels, idxs, args)\n",
        "# adj_t, _ = transform_attack(model, adj, features)"
      ],
      "execution_count": 0,
      "outputs": []
    },
    {
      "cell_type": "code",
      "metadata": {
        "id": "7PMmFbZhRzw1",
        "colab_type": "code",
        "outputId": "ac62b01a-2523-49d2-f9f6-a7dd7a665cdf",
        "colab": {
          "base_uri": "https://localhost:8080/",
          "height": 295
        }
      },
      "source": [
        "data = get_simil_hist(adj_t).cpu().detach().numpy()\n",
        "\n",
        "data_nz = data[data.nonzero()[0]]\n",
        "\n",
        "plt.hist(data_nz, weights=np.ones(len(data_nz)) / len(data), bins=50, histtype='step', color='green')\n",
        "\n",
        "plt.gca().yaxis.set_major_formatter(PercentFormatter(1))\n",
        "plt.title(\"Attacked with considering average similarity\")\n",
        "plt.ylabel(\"Percentage %\")\n",
        "plt.ylim(0, 0.11)\n",
        "plt.xlabel(\"jaccard similarity between connected nodes.\")\n",
        "plt.savefig(\"fig_attacked2.png\")\n",
        "plt.show()"
      ],
      "execution_count": 15,
      "outputs": [
        {
          "output_type": "display_data",
          "data": {
            "image/png": "[encoded data removed]",
            "text/plain": [
              "<Figure size 432x288 with 1 Axes>"
            ]
          },
          "metadata": {
            "tags": [],
            "needs_background": "light"
          }
        }
      ]
    },
    {
      "cell_type": "code",
      "metadata": {
        "id": "ECeToC27R2sO",
        "colab_type": "code",
        "outputId": "06061cc9-9f1e-4771-8d9c-9f242e57261f",
        "colab": {
          "base_uri": "https://localhost:8080/",
          "height": 295
        }
      },
      "source": [
        "\n",
        "data = get_simil_hist(adj).cpu().detach().numpy()\n",
        "\n",
        "data_nz = data[data.nonzero()[0]]\n",
        "\n",
        "plt.hist(data_nz, weights=np.ones(len(data_nz)) / len(data), bins=50, histtype='step')\n",
        "\n",
        "plt.gca().yaxis.set_major_formatter(PercentFormatter(1))\n",
        "plt.title(\"Clean\")\n",
        "plt.ylabel(\"Percentage %\")\n",
        "plt.ylim(0, 0.11)\n",
        "plt.xlabel(\"jaccard similarity between connected nodes.\")\n",
        "plt.savefig(\"fig_clean.png\")\n",
        "plt.show()"
      ],
      "execution_count": 16,
      "outputs": [
        {
          "output_type": "display_data",
          "data": {
            "image/png": "[encoded data removed]",
            "text/plain": [
              "<Figure size 432x288 with 1 Axes>"
            ]
          },
          "metadata": {
            "tags": [],
            "needs_background": "light"
          }
        }
      ]
    },
    {
      "cell_type": "code",
      "metadata": {
        "id": "m7BwPJPMb4YW",
        "colab_type": "code",
        "colab": {}
      },
      "source": [
        ""
      ],
      "execution_count": 0,
      "outputs": []
    }
  ]
}